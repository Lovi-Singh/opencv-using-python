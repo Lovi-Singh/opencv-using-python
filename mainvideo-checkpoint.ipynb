{
 "cells": [
  {
   "cell_type": "code",
   "execution_count": 7,
   "metadata": {},
   "outputs": [],
   "source": [
    "import cv2\n",
    "\n",
    "cap = cv2.VideoCapture('../Desktop/Computer-Vision-with-Python/DATA/hand_move.mp4')\n",
    "\n",
    "if cap.isOpened() == False:\n",
    "    print('ERROR FILE NOT FOUND OR WRONG CODEC USED!')\n",
    "\n",
    "while cap.isOpened():\n",
    "    \n",
    "    ret , frame = cap.read()\n",
    "    \n",
    "    if ret == True:\n",
    "        cv2.imshow('original video',frame)\n",
    "        if cv2.waitKey(27) & 0xFF == ord('q'):\n",
    "            break\n",
    "            \n",
    "    else:\n",
    "        break\n",
    "\n",
    "cap.release()\n",
    "cv2.destroyAllWindows()     "
   ]
  },
  {
   "cell_type": "code",
   "execution_count": null,
   "metadata": {},
   "outputs": [],
   "source": [
    "import cv2\n",
    "\n",
    "cap = cv2.VideoCapture('../Desktop/Computer-Vision-with-Python/DATA/hand_move.mp4')\n",
    "ret,current_frame = cap.read()\n",
    "previous_frame = current_frame\n",
    "if cap.isOpened() == False:\n",
    "    print('ERROR FILE NOT FOUND OR WRONG CODEC USED!')\n",
    "    \n",
    "while(cap.isOpened()):\n",
    "    if ret == True:\n",
    "        current_frame_gray = cv2.cvtColor(current_frame, cv2.COLOR_BGR2GRAY)\n",
    "        previous_frame_gray = cv2.cvtColor(previous_frame, cv2.COLOR_BGR2GRAY)\n",
    "    \n",
    "        frame_diff = cv2.absdiff(current_frame_gray,previous_frame_gray)\n",
    "        ret_th , thresh_img = cv2.threshold(frame_diff,30,255,cv2.THRESH_BINARY)\n",
    "    \n",
    "        cv2.imshow('frame difference',thresh_img)\n",
    "        if cv2.waitKey(27) & 0xFF == ord('q'):\n",
    "            break\n",
    "            \n",
    "    else :\n",
    "        break\n",
    "    \n",
    "    previous_frame = current_frame.copy()\n",
    "    ret , current_frame = cap.read()\n",
    "               \n",
    "        \n",
    "cap.release()\n",
    "cv2.destroyAllWindows()"
   ]
  }
 ],
 "metadata": {
  "kernelspec": {
   "display_name": "Python 3",
   "language": "python",
   "name": "python3"
  },
  "language_info": {
   "codemirror_mode": {
    "name": "ipython",
    "version": 3
   },
   "file_extension": ".py",
   "mimetype": "text/x-python",
   "name": "python",
   "nbconvert_exporter": "python",
   "pygments_lexer": "ipython3",
   "version": "3.6.6"
  }
 },
 "nbformat": 4,
 "nbformat_minor": 2
}
