{
 "cells": [
  {
   "cell_type": "code",
   "execution_count": 1,
   "metadata": {},
   "outputs": [],
   "source": [
    "%matplotlib qt\n",
    "import random \n",
    "from itertools import count\n",
    "import pandas as pd\n",
    "import matplotlib.pyplot as plt\n",
    "from matplotlib.animation import FuncAnimation\n",
    "\n",
    "plt.style.use('fivethirtyeight')\n",
    "\n",
    "y_vals = []\n",
    "\n",
    "index = count()\n",
    "\n",
    "def animate(i):\n",
    "    data = pd.read_csv('../data.csv')\n",
    "    y = data['y_value']\n",
    "    \n",
    "    plt.cla()\n",
    "    plt.plot(y)\n",
    "    plt.xlim(left=max(0,i-50) , right= i+50)\n",
    "    plt.tight_layout()\n",
    "    \n",
    "ani = FuncAnimation(plt.gcf(), animate, interval=200)\n",
    "\n",
    "plt.tight_layout()\n",
    "plt.show()"
   ]
  },
  {
   "cell_type": "code",
   "execution_count": 8,
   "metadata": {},
   "outputs": [
    {
     "name": "stdin",
     "output_type": "stream",
     "text": [
      " 1 2 3\n"
     ]
    },
    {
     "name": "stdout",
     "output_type": "stream",
     "text": [
      "3\n"
     ]
    }
   ],
   "source": [
    "import numpy as np\n",
    "\n",
    "def partition(A):\n",
    "    sum=0;\n",
    "    for i in range(len(A)):\n",
    "        left_sum=0\n",
    "        for j in range(i):\n",
    "            left_sum += A[j]\n",
    "            \n",
    "        right_sum = 0\n",
    "        for j in range(i,len(A)):\n",
    "            right_sum += A[j]\n",
    "            \n",
    "        if left_sum==right_sum:\n",
    "            return i;\n",
    "    \n",
    "    return -1\n",
    "\n",
    "if __name__=='__main__':\n",
    "    sum=0;\n",
    "    A = list(map(int,input().strip().split()))\n",
    "    i=partition(A)\n",
    "    \n",
    "    for l in A[:i]:\n",
    "        sum = sum+l\n",
    "    print(sum)"
   ]
  },
  {
   "cell_type": "code",
   "execution_count": 4,
   "metadata": {},
   "outputs": [],
   "source": [
    "\n",
    "def kClosest(locations,k):\n",
    "    def sqr_dist(location):\n",
    "        return location[0]*location[0]+location[1]*location[1]\n",
    "    locations.sort(key=sqr_dist)\n",
    "    return locations[:k]\n"
   ]
  },
  {
   "cell_type": "code",
   "execution_count": null,
   "metadata": {},
   "outputs": [],
   "source": [
    "def minDistance(grid, cur, col):\n",
    "    if grid[cur]==9:\n",
    "        return 0\n",
    " \n",
    "    rInt=cur+1\n",
    "    dInt=cur+col\n",
    "     \n",
    "    if rInt<len(grid) and dInt<len(grid) and grid[rInt]>0 and grid[dInt]>0:\n",
    "        return 1+min(minDistance(grid, rInt, col), minDistance(grid, dInt, col))\n",
    " \n",
    "    elif rInt<len(grid) and grid[rInt]>0:\n",
    "        return 1+minDistance(grid, rInt, col)\n",
    "     \n",
    "    elif dInt<len(grid) and grid[dInt]>0:\n",
    "        return 1+minDistance(grid, dInt, col)\n",
    " \n",
    "    else:\n",
    "        return len(grid)\n",
    "    \n",
    "def findShortedtPath(grid):\n",
    "    liPath=[]\n",
    "    rows = len(grid)\n",
    "    columns = len(grid[0])\n",
    "    for i in grid:\n",
    "        liPath.extend(i)\n",
    "  \n",
    "    val=minDistance(liPath, 0, columns)\n",
    " \n",
    "    if val<=len(liPath):\n",
    "        return val\n",
    "    else:\n",
    "        return -1"
   ]
  }
 ],
 "metadata": {
  "kernelspec": {
   "display_name": "Python 3",
   "language": "python",
   "name": "python3"
  },
  "language_info": {
   "codemirror_mode": {
    "name": "ipython",
    "version": 3
   },
   "file_extension": ".py",
   "mimetype": "text/x-python",
   "name": "python",
   "nbconvert_exporter": "python",
   "pygments_lexer": "ipython3",
   "version": "3.8.3"
  }
 },
 "nbformat": 4,
 "nbformat_minor": 4
}
